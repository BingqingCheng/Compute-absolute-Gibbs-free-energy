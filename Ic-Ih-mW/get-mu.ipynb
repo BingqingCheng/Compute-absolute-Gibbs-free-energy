{
 "cells": [
  {
   "cell_type": "markdown",
   "metadata": {},
   "source": [
    "# Init"
   ]
  },
  {
   "cell_type": "code",
   "execution_count": 4,
   "metadata": {},
   "outputs": [],
   "source": [
    "import numpy as np\n",
    "import matplotlib.pyplot as plt\n",
    "from scipy import stats"
   ]
  },
  {
   "cell_type": "code",
   "execution_count": 41,
   "metadata": {},
   "outputs": [],
   "source": [
    "# constants\n",
    "kb = 3.1668105e-06 # in hartree\n",
    "ha2ev = 27.211386\n",
    "kcalmol2ev = 0.043364104\n",
    "kbev = kb*ha2ev # in eV\n",
    "A3GPa2ev = 0.0062415091 # A^3*GPa in eV\n",
    "ev2kjmol=96.485336"
   ]
  },
  {
   "cell_type": "markdown",
   "metadata": {},
   "source": [
    "## The energy units in this notebook is in eV, unless specified otherwise"
   ]
  },
  {
   "cell_type": "markdown",
   "metadata": {},
   "source": [
    "# 0K results"
   ]
  },
  {
   "cell_type": "code",
   "execution_count": 6,
   "metadata": {},
   "outputs": [],
   "source": [
    "properties = {}"
   ]
  },
  {
   "cell_type": "code",
   "execution_count": 19,
   "metadata": {},
   "outputs": [],
   "source": [
    "properties['Ih'] = {'natom': 1728,\n",
    "                       'nfreedom': (1728-1)*3,\n",
    "                       'U0': -21386.636 * kcalmol2ev, # in kcal/mol, # U at 0K in eV\n",
    "                       'V0': 0, # volume at 0K in A^3 (doesn't matter as P=0)\n",
    "                       'T0': 90, # the T for lambda integration\n",
    "                       'eigval_T0': np.loadtxt(\"ipi-90K/phonon-90K/ih-90K.eigval\"), # the eigenvalues of the phonon modes \n",
    "                       'dhdl_T0': np.loadtxt(\"ipi-90K/lambda-ti/dhdl.ih\"), # dh/dl from har to ahar\n",
    "                       'A2G_T0': [0.0636759, 0.000163532], # the rho correction term for A->G\n",
    "                       'V_T0': 0, # the actual V used in the lambda integration (doesn't matter as P=0)\n",
    "                       'press': 0, # GPa\n",
    "                       'enthalpy_T': np.sort(np.loadtxt(\"lammps-npt/PE.list\"), axis=0)[:,[0,1,2]] # enthalpy at different T in eV\n",
    "                      }"
   ]
  },
  {
   "cell_type": "code",
   "execution_count": 31,
   "metadata": {},
   "outputs": [],
   "source": [
    "properties['Ic'] = {'natom': 1728,\n",
    "                       'nfreedom': (1728-1)*3,\n",
    "                       'U0': -21386.636 * kcalmol2ev, # in kcal/mol, # U at 0K in eV\n",
    "                       'V0': 0, # volume at 0K in A^3 (doesn't matter as P=0)\n",
    "                       'T0': 90, # the T for lambda integration\n",
    "                       'eigval_T0': np.loadtxt(\"ipi-90K/phonon-90K/ic-90K.eigval\"), # the eigenvalues of the phonon modes \n",
    "                       'dhdl_T0': np.loadtxt(\"ipi-90K/lambda-ti/dhdl.ic\"), # dh/dl from har to ahar\n",
    "                       'A2G_T0': [0.0634221, 0.000165406], # the rho correction term for A->G\n",
    "                       'V_T0': 0, # the actual V used in the lambda integration (doesn't matter as P=0)\n",
    "                       'press': 0, # GPa\n",
    "                       'enthalpy_T': np.sort(np.loadtxt(\"lammps-npt/PE.list\"), axis=0)[:,[0,3,4]] # enthalpy at different T in eV\n",
    "                      }"
   ]
  },
  {
   "cell_type": "code",
   "execution_count": 10,
   "metadata": {},
   "outputs": [],
   "source": [
    "def get_G_0K(prop):\n",
    "    return prop['U0']+A3GPa2ev*prop['V0']*prop['press']\n",
    "\n",
    "def get_mu_0K(prop):\n",
    "    return (prop['U0']+A3GPa2ev*prop['V0']*prop['press'])/prop['natom']"
   ]
  },
  {
   "cell_type": "code",
   "execution_count": 11,
   "metadata": {},
   "outputs": [],
   "source": [
    "def get_har_T0(prop):\n",
    "    T0 = prop['T0']\n",
    "    return ha2ev*T0*kb*np.log(np.sqrt(prop['eigval_T0'][3:])/(T0*kb)).sum()\n",
    "\n",
    "def get_ahar_T0(prop):\n",
    "    T0 = prop['T0']\n",
    "    dhdl = prop['dhdl_T0']\n",
    "    it=0.0\n",
    "    iterror=0.0\n",
    "    for i in range(len(dhdl)-1):\n",
    "        #print dhdl[i,0],dhdl[i,1]\n",
    "        it += 0.5*(dhdl[i,1]+dhdl[i+1,1])*(dhdl[i+1,0]-dhdl[i,0])\n",
    "        iterror += 0.5*(dhdl[i,2]**2.+dhdl[i,2]**2.)*(dhdl[i+1,0]-dhdl[i,0])\n",
    "    return it, iterror\n",
    "\n",
    "def get_A_T0(prop):\n",
    "    Aharm_T0 = get_har_T0(prop)\n",
    "    AanhT0, AanhT0error = get_ahar_T0(prop)\n",
    "    AT0 = Aharm_T0+AanhT0\n",
    "    #print(AT0, \"+/-\", AanhT0error)\n",
    "    return AT0, AanhT0error\n",
    "\n",
    "def get_G_T0(prop):\n",
    "    AT0, AT0error  = get_A_T0(prop)\n",
    "    GT0 = AT0 + prop['A2G_T0'][0] + A3GPa2ev*prop['V_T0']*prop['press']\n",
    "    GT0error = AT0error + prop['A2G_T0'][1]  \n",
    "    return GT0, GT0error\n",
    "\n",
    "def get_mu_T0(prop):\n",
    "    return np.asarray(get_G_T0(prop))/prop['natom']"
   ]
  },
  {
   "cell_type": "code",
   "execution_count": 21,
   "metadata": {},
   "outputs": [],
   "source": [
    "def get_G(prop):\n",
    "    \n",
    "    G0 = get_G_0K(prop)\n",
    "    T0 = prop['T0']\n",
    "    nfree = prop['nfreedom']\n",
    "    \n",
    "    #print(prop['enthalpy_T'])\n",
    "    ttnpt = prop['enthalpy_T'][:,0]\n",
    "    ltnpt = np.log(ttnpt)\n",
    "    #print ttnpt\n",
    "    dhnow = np.zeros(len(ltnpt))\n",
    "    dhnowerror = np.zeros(len(ltnpt))\n",
    "    \n",
    "    dhnow = prop['enthalpy_T'][:,1] * kcalmol2ev # unit conversion\n",
    "    dhnowerror = prop['enthalpy_T'][:,2] * kcalmol2ev\n",
    "    #print(dhnow)   \n",
    "    # get delta H = H(t) - H(0) - n_free*kbt/2\n",
    "    #for a in range(len(ttnpt)):\n",
    "    #    print(dhnow[a], G0)\n",
    "    #    dhnow[a] += c\n",
    "        \n",
    "    # integration\n",
    "    intdhnow=np.zeros((len(ttnpt)-1,3))\n",
    "    it=0.0\n",
    "    iterror=0.0\n",
    "    for i in range(len(ttnpt)-1):\n",
    "        T1=ttnpt[i+1]\n",
    "        it += 0.5*((dhnow[i]-G0-ttnpt[i]*kbev*nfree/2.)/ttnpt[i]+(dhnow[i+1]-G0- ttnpt[i+1]*kbev*nfree/2.)/ttnpt[i+1])*(ltnpt[i+1]-ltnpt[i])\n",
    "        iterror += 0.5*((dhnowerror[i]/ttnpt[i])**2.+(dhnowerror[i+1]/ttnpt[i+1])**2.)*(ltnpt[i+1]-ltnpt[i])\n",
    "        intdhnow[i,0]=T1\n",
    "        intdhnow[i,1]=-it*T1\n",
    "        intdhnow[i,2]=np.sqrt(iterror)*T1/np.sqrt(i+1)\n",
    "    #print(intdhnow)\n",
    "    \n",
    "    G=np.zeros((len(ttnpt)+1,3))\n",
    "    \n",
    "    GT0, GT0error = get_G_T0(prop)\n",
    "    G[0,:] = [0, G0,0]\n",
    "    G[1,:]=[T0, GT0, GT0error]\n",
    "    for i in range(len(ttnpt)-1):\n",
    "        T1=intdhnow[i,0]\n",
    "        if T1 >= T0:\n",
    "            G[i+2,0]=T1\n",
    "            G[i+2,1]=intdhnow[i,1]+G0+(T1/T0)*(GT0-G0)-prop['nfreedom']*kbev*T1*np.log(T1/T0)\n",
    "            G[i+2,2]=intdhnow[i,2]+(T1/T0)*GT0error\n",
    "    return G\n",
    "\n",
    "def get_mu(prop):\n",
    "    mu = get_G(prop)\n",
    "    mu[:,[1,2]]/=prop['natom']\n",
    "    return mu"
   ]
  },
  {
   "cell_type": "code",
   "execution_count": 29,
   "metadata": {},
   "outputs": [
    {
     "data": {
      "text/plain": [
       "(-906.6812277258687, 0.00016355695818119913)"
      ]
     },
     "execution_count": 29,
     "metadata": {},
     "output_type": "execute_result"
    }
   ],
   "source": [
    "get_G_T0(properties['Ih'])"
   ]
  },
  {
   "cell_type": "code",
   "execution_count": 32,
   "metadata": {},
   "outputs": [
    {
     "data": {
      "text/plain": [
       "(-906.6910726348056, 0.00016567539120976099)"
      ]
     },
     "execution_count": 32,
     "metadata": {},
     "output_type": "execute_result"
    }
   ],
   "source": [
    "get_G_T0(properties['Ic'])"
   ]
  },
  {
   "cell_type": "code",
   "execution_count": 35,
   "metadata": {},
   "outputs": [
    {
     "data": {
      "text/plain": [
       "array([[ 0.00000000e+00, -9.27412308e+02,  0.00000000e+00],\n",
       "       [ 9.00000000e+01, -9.06681228e+02,  1.63556958e-04],\n",
       "       [ 1.05000000e+02, -9.10923708e+02,  1.63974900e-03],\n",
       "       [ 1.20000000e+02, -9.15860157e+02,  1.46532536e-03],\n",
       "       [ 1.35000000e+02, -9.21677265e+02,  1.45873277e-03],\n",
       "       [ 1.50000000e+02, -9.28282214e+02,  1.49733699e-03],\n",
       "       [ 1.65000000e+02, -9.35601243e+02,  1.55274607e-03],\n",
       "       [ 1.80000000e+02, -9.43573755e+02,  1.61800379e-03],\n",
       "       [ 1.95000000e+02, -9.52149370e+02,  1.68667279e-03],\n",
       "       [ 2.10000000e+02, -9.61285698e+02,  1.75832453e-03],\n",
       "       [ 2.25000000e+02, -9.70946307e+02,  1.83134215e-03],\n",
       "       [ 2.40000000e+02, -9.81100342e+02,  1.90331488e-03],\n",
       "       [ 2.55000000e+02, -9.91721111e+02,  1.97538618e-03],\n",
       "       [ 2.70000000e+02, -1.00278552e+03,  2.04816358e-03],\n",
       "       [ 2.85000000e+02, -1.01427413e+03,  2.12149579e-03]])"
      ]
     },
     "execution_count": 35,
     "metadata": {},
     "output_type": "execute_result"
    }
   ],
   "source": [
    "get_G(properties['Ih'])"
   ]
  },
  {
   "cell_type": "code",
   "execution_count": 36,
   "metadata": {},
   "outputs": [
    {
     "data": {
      "text/plain": [
       "array([[ 0.00000000e+00, -9.27412308e+02,  0.00000000e+00],\n",
       "       [ 9.00000000e+01, -9.06691073e+02,  1.65675391e-04],\n",
       "       [ 1.05000000e+02, -9.10930056e+02,  2.17860584e-03],\n",
       "       [ 1.20000000e+02, -9.15866011e+02,  1.93972356e-03],\n",
       "       [ 1.35000000e+02, -9.21681414e+02,  1.92735868e-03],\n",
       "       [ 1.50000000e+02, -9.28283831e+02,  1.98430971e-03],\n",
       "       [ 1.65000000e+02, -9.35598542e+02,  2.06646425e-03],\n",
       "       [ 1.80000000e+02, -9.43564855e+02,  2.16088084e-03],\n",
       "       [ 1.95000000e+02, -9.52132423e+02,  2.26088835e-03],\n",
       "       [ 2.10000000e+02, -9.61258523e+02,  2.36337736e-03],\n",
       "       [ 2.25000000e+02, -9.70907295e+02,  2.47067662e-03],\n",
       "       [ 2.40000000e+02, -9.81046786e+02,  2.57823519e-03],\n",
       "       [ 2.55000000e+02, -9.91650150e+02,  2.68094748e-03],\n",
       "       [ 2.70000000e+02, -1.00269441e+03,  2.77910668e-03],\n",
       "       [ 2.85000000e+02, -1.01416005e+03,  2.87868941e-03]])"
      ]
     },
     "execution_count": 36,
     "metadata": {},
     "output_type": "execute_result"
    }
   ],
   "source": [
    "get_G(properties['Ic'])"
   ]
  },
  {
   "cell_type": "code",
   "execution_count": 37,
   "metadata": {},
   "outputs": [],
   "source": [
    "mu_Ih = get_mu(properties['Ih'])\n",
    "mu_Ic = get_mu(properties['Ic'])"
   ]
  },
  {
   "cell_type": "code",
   "execution_count": 38,
   "metadata": {},
   "outputs": [
    {
     "data": {
      "image/png": "[encoded data removed]",
      "text/plain": [
       "<Figure size 432x288 with 1 Axes>"
      ]
     },
     "metadata": {
      "needs_background": "light"
     },
     "output_type": "display_data"
    }
   ],
   "source": [
    "plt.errorbar(mu_Ih[:,0],mu_Ih[:,1],yerr=mu_Ih[:,2],label=\"Ih\")\n",
    "plt.errorbar(mu_Ic[:,0],mu_Ic[:,1],yerr=mu_Ic[:,2],label=\"Ic\")\n",
    "plt.xlim([0,300])\n",
    "plt.xlabel(\"Temperature [K]\")\n",
    "plt.ylabel(\"$\\mu$ [eV/atom]\")\n",
    "plt.legend()\n",
    "plt.show()"
   ]
  },
  {
   "cell_type": "code",
   "execution_count": 43,
   "metadata": {},
   "outputs": [
    {
     "data": {
      "image/png": "[encoded data removed]",
      "text/plain": [
       "<Figure size 432x288 with 1 Axes>"
      ]
     },
     "metadata": {
      "needs_background": "light"
     },
     "output_type": "display_data"
    }
   ],
   "source": [
    "plt.errorbar(mu_Ic[:,0],ev2kjmol*(mu_Ic[:,1]-mu_Ih[:,1]),yerr=ev2kjmol*(mu_Ic[:,2]+mu_Ih[:,2]),label=\"Ic-Ih\")\n",
    "plt.xlim([0,300])\n",
    "plt.xlabel(\"Temperature [K]\")\n",
    "plt.ylabel(\"$\\mu$ [kj/mol]\")\n",
    "plt.legend()\n",
    "plt.show()"
   ]
  },
  {
   "cell_type": "markdown",
   "metadata": {},
   "source": [
    "# The free energy of the reference harmonic system with fixed mass at T0\n",
    "### $A_\\text{h}(T_0)=k_B T_0\\sum_{i=1}^{3N-3}\\ln(\\dfrac{\\hbar \\omega_i}{k_B T_0})$"
   ]
  },
  {
   "cell_type": "markdown",
   "metadata": {},
   "source": [
    "# Anharmonic correction of A at T0\n",
    "### $A(V,T_0)-A_\\text{h}(V,T_0)=\\int_0^1 d \\lambda \\left<U-U_\\text{h}\\right>_{V,T_0,\\lambda}$"
   ]
  },
  {
   "cell_type": "markdown",
   "metadata": {},
   "source": [
    "# Transform the Helmholtz free energy to the Gibbs free energy\n",
    "#### We used the isothermal-isobaric ensemble (NPT) in the simulations with zero external pressure, and allowed the 3 dimensions of the orthorhombic simulation cell are allowed to fluctuate independently. In this case we have\n",
    "#### $G(P,T) = A (\\textbf{h},T) + P \\text{det}(\\textbf{h}) + k_B T \\ln \\rho(\\textbf{h}|P,T)$.\n",
    "#### As $P=0$ in our case, so here we only need to compute $k_B T \\ln \\rho(\\textbf{h}|P,T)$\n",
    "#### For convinience, we used a bash script (processrhoxyz.sh) to compute this quantity."
   ]
  },
  {
   "cell_type": "markdown",
   "metadata": {},
   "source": [
    "# Thermodynamic Intergation at NPT\n",
    "## $-T_1\\int_{T_0}^{T_1} \\dfrac{\\left<\\delta H\\right>_{P,T}}{ T^2} dT=-T_1\\int_{\\ln T_0}^{\\ln T_1} \\left<\\delta H\\right>_{P,T}e^{-y} dy$"
   ]
  },
  {
   "cell_type": "markdown",
   "metadata": {},
   "source": [
    "#### TI wrt T, starting at T_0=90K"
   ]
  },
  {
   "cell_type": "markdown",
   "metadata": {},
   "source": [
    "## Now we put all the pieces together\n",
    "## From the paper we have\n",
    "###     $\\dfrac{G(P,T_1)}{k_B T_1} = \\dfrac{G(P,0)}{k_B T_1}+ \\dfrac{G(P,T_0) - G(P,0)}{k_B T_0} -(3N-3) \\ln(\\dfrac{T_1}{T_0})- \\int_{T_0}^{T_1} \\dfrac{\\left<\\delta H\\right>_{P,T}}{k_B T^2} dT.$\n",
    "### so\n",
    "### $G(P,T_1) = G(P,0)+ \\dfrac{T_1}{T_0}(G(P,T_0) - G(P,0)) -(3N-3)k_B T_1 \\ln(\\dfrac{T_1}{T_0})-T_1\\int_{\\ln T_0}^{\\ln T_1} \\left<\\delta H\\right>_{P,T}e^{-y} dy$\n",
    "### Note: These expressions are for systems with contrained center of mass"
   ]
  },
  {
   "cell_type": "markdown",
   "metadata": {
    "collapsed": true
   },
   "source": [
    "# Now compute the chemical potential dif\n",
    "### $\\mu = G_\\text{Ic}/N_{Ic} - G_\\text{Ih}/N{Ih}$"
   ]
  },
  {
   "cell_type": "code",
   "execution_count": null,
   "metadata": {},
   "outputs": [],
   "source": []
  }
 ],
 "metadata": {
  "kernelspec": {
   "display_name": "Python 3",
   "language": "python",
   "name": "python3"
  },
  "language_info": {
   "codemirror_mode": {
    "name": "ipython",
    "version": 3
   },
   "file_extension": ".py",
   "mimetype": "text/x-python",
   "name": "python",
   "nbconvert_exporter": "python",
   "pygments_lexer": "ipython3",
   "version": "3.7.7"
  }
 },
 "nbformat": 4,
 "nbformat_minor": 2
}
