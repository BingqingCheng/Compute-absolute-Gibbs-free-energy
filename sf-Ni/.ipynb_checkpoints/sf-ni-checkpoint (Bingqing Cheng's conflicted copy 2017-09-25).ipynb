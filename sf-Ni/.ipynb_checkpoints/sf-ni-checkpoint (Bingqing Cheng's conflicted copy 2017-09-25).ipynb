{
 "cells": [
  {
   "cell_type": "markdown",
   "metadata": {},
   "source": [
    "# Init"
   ]
  },
  {
   "cell_type": "code",
   "execution_count": 150,
   "metadata": {
    "collapsed": true
   },
   "outputs": [],
   "source": [
    "import numpy as np\n",
    "import matplotlib.pyplot as plt\n",
    "from scipy import stats"
   ]
  },
  {
   "cell_type": "code",
   "execution_count": 151,
   "metadata": {
    "collapsed": true
   },
   "outputs": [],
   "source": [
    "kb = 3.1668105e-06 # in hartree\n",
    "ha2ev = 27.211386\n",
    "kbev = kb*ha2ev # in eV\n",
    "T0=90\n",
    "natomfcc=1440\n",
    "natomsf=1320\n",
    "nfreefcc=(natomfcc-1)*3\n",
    "nfreesf=(natomsf-1)*3"
   ]
  },
  {
   "cell_type": "markdown",
   "metadata": {},
   "source": [
    "## The energy units in this notebook is in eV, unless specified otherwise"
   ]
  },
  {
   "cell_type": "markdown",
   "metadata": {},
   "source": [
    "# 0K results"
   ]
  },
  {
   "cell_type": "code",
   "execution_count": 152,
   "metadata": {
    "collapsed": true
   },
   "outputs": [],
   "source": [
    "U0fcc=-6408.37671808278  # in eV\n",
    "U0sf=-5872.03815551313"
   ]
  },
  {
   "cell_type": "markdown",
   "metadata": {},
   "source": [
    "# The free energy of the reference harmonic system with fixed mass at 90K\n",
    "### $A_\\text{h}(T_0)=k_B T_0\\sum_{i=1}^{3N-3}\\ln(\\dfrac{\\hbar \\omega_i}{k_B T_0})$"
   ]
  },
  {
   "cell_type": "code",
   "execution_count": 153,
   "metadata": {},
   "outputs": [
    {
     "name": "stdout",
     "output_type": "stream",
     "text": [
      "39.7857564885\n"
     ]
    }
   ],
   "source": [
    "eva = np.loadtxt(\"ipi-90K/fcc-phonon/fcc-90K.eigval\")\n",
    "# The square root of the eigenvalues of the phonon modes is the frequency in the unit of hartree\n",
    "AharmfccT0 = ha2ev*T0*kb*np.log(np.sqrt(eva[3:])/(T0*kb)).sum()\n",
    "print AharmfccT0"
   ]
  },
  {
   "cell_type": "code",
   "execution_count": 154,
   "metadata": {},
   "outputs": [
    {
     "name": "stdout",
     "output_type": "stream",
     "text": [
      "36.4324033105\n"
     ]
    }
   ],
   "source": [
    "eva = np.loadtxt(\"ipi-90K/sf-phonon/sf-90K.eigval\")\n",
    "# The square root of the eigenvalues of the phonon modes is the frequency in the unit of hartree\n",
    "AharmsfT0 = ha2ev*T0*kb*np.log(np.sqrt(eva[3:])/(T0*kb)).sum()\n",
    "print AharmsfT0"
   ]
  },
  {
   "cell_type": "markdown",
   "metadata": {},
   "source": [
    "# Anharmonic correction of A at 90K\n",
    "### $A(V,T_0)-A_\\text{h}(V,T_0)=\\int_0^1 d \\lambda \\left<U-U_\\text{h}\\right>_{V,T_0,\\lambda}$"
   ]
  },
  {
   "cell_type": "code",
   "execution_count": 155,
   "metadata": {},
   "outputs": [
    {
     "name": "stdout",
     "output_type": "stream",
     "text": [
      "39.7857564885 -6408.37671808 -6408.1801805\n",
      "-6368.39442401 +/- 1.43889662525e-07\n"
     ]
    }
   ],
   "source": [
    "dhdlfcc = np.loadtxt(\"ipi-90K/fcc-ti-lambda/fcc.dhdl\")\n",
    "it=0.0\n",
    "iterror=0.0\n",
    "for i in xrange(len(dhdlfcc)-1):\n",
    "    #print dhdlfcc[i,0],dhdlfcc[i,1]\n",
    "    it += 0.5*(dhdlfcc[i,1]+dhdlfcc[i+1,1])*(dhdlfcc[i+1,0]-dhdlfcc[i,0])\n",
    "    iterror += 0.5*(dhdlfcc[i,2]**2.+dhdlfcc[i,2]**2.)*(dhdlfcc[i+1,0]-dhdlfcc[i,0])\n",
    "#print it, iterror\n",
    "AanhfccT0=it\n",
    "AanhfccT0error=iterror\n",
    "AfccT0=AharmfccT0+AanhfccT0\n",
    "print AharmfccT0, U0fcc, AanhfccT0\n",
    "print AfccT0, \"+/-\", AanhfccT0error"
   ]
  },
  {
   "cell_type": "code",
   "execution_count": 156,
   "metadata": {},
   "outputs": [
    {
     "name": "stdout",
     "output_type": "stream",
     "text": [
      "36.4324033105 -5872.03815551 -5871.966848\n",
      "-5835.53444469 +/- 8.33112122485e-08\n"
     ]
    }
   ],
   "source": [
    "dhdlsf = np.loadtxt(\"ipi-90K/sf-ti-lambda/sf.dhdl\")\n",
    "it=0.0\n",
    "iterror=0.0\n",
    "for i in xrange(len(dhdlsf)-1):\n",
    "    it += 0.5*(dhdlsf[i,1]+dhdlsf[i+1,1])*(dhdlsf[i+1,0]-dhdlsf[i,0])\n",
    "    iterror += 0.5*(dhdlsf[i,2]**2.+dhdlsf[i,2]**2.)*(dhdlsf[i+1,0]-dhdlsf[i,0])\n",
    "#print it, iterror\n",
    "AanhsfT0=it\n",
    "AanhsfT0error=iterror\n",
    "AsfT0=AharmsfT0+AanhsfT0\n",
    "print AharmsfT0, U0sf, AanhsfT0\n",
    "print AsfT0, \"+/-\", AanhsfT0error"
   ]
  },
  {
   "cell_type": "markdown",
   "metadata": {},
   "source": [
    "# Transform the Helmholtz free energy to the Gibbs free energy\n",
    "#### We used the isothermal-isobaric ensemble (NPT) in the simulations with zero external pressure, and allowed the 3 dimensions of the orthorhombic simulation cell are allowed to fluctuate independently. In this case we have\n",
    "#### $G(P,T) = A (\\textbf{h},T) + P \\text{det}(\\textbf{h}) + k_B T \\ln \\rho(\\textbf{h}|P,T)$.\n",
    "#### As $P=0$ in our case, so here we only need to compute $k_B T \\ln \\rho(\\textbf{h}|P,T)$\n",
    "#### For convinience, we used a bash script (processrhoxyz.sh) to compute this quantity."
   ]
  },
  {
   "cell_type": "code",
   "execution_count": 157,
   "metadata": {},
   "outputs": [
    {
     "name": "stdout",
     "output_type": "stream",
     "text": [
      "Gfcc90K: -6368.29899061 +/- 0.000648335889663\n",
      "Gsf 90K: -5835.44218279 +/- 0.000791744311212\n"
     ]
    }
   ],
   "source": [
    "A2GfccT0=[0.0954334, 0.000648192]\n",
    "A2GsfT0=[0.0922619, 0.000791661]\n",
    "\n",
    "GfccT0=AfccT0+A2GfccT0[0]\n",
    "GfccT0error=AanhfccT0error+A2GfccT0[1]\n",
    "print \"Gfcc90K:\",GfccT0, \"+/-\", GfccT0error\n",
    "\n",
    "GsfT0=AsfT0+A2GsfT0[0]\n",
    "GsfT0error=AanhsfT0error+A2GsfT0[1]\n",
    "print \"Gsf 90K:\",GsfT0, \"+/-\", GsfT0error\n"
   ]
  },
  {
   "cell_type": "markdown",
   "metadata": {},
   "source": [
    "# Thermodynamic Intergation at NPT\n",
    "## $-T_1\\int_{T_0}^{T_1} \\dfrac{\\left<\\delta H\\right>_{P,T}}{ T^2} dT=-T_1\\int_{\\ln T_0}^{\\ln T_1} \\left<\\delta H\\right>_{P,T}e^{-y} dy$,\n",
    "\n",
    "## In our case P=0 so\n",
    "## $\\left<\\delta H\\right>_{P,T} = \\left<U\\right>_{0,T}-\\left<U\\right>_{0,0}-\\dfrac{3N-3}{2}k_B T$"
   ]
  },
  {
   "cell_type": "code",
   "execution_count": 158,
   "metadata": {},
   "outputs": [
    {
     "data": {
      "image/png": "[encoded data removed]",
      "text/plain": [
       "<matplotlib.figure.Figure at 0x7fb64c244a10>"
      ]
     },
     "metadata": {},
     "output_type": "display_data"
    }
   ],
   "source": [
    "dhnptlist = np.sort(np.loadtxt(\"lammps-npt/PE.list\"), axis=0)\n",
    "#print dhnptlist\n",
    "ttnpt = dhnptlist[12:-2,0]\n",
    "ltnpt = np.log(ttnpt)\n",
    "#print ttnpt\n",
    "\n",
    "dhfcc = dhnptlist[12:-2,1]\n",
    "dhfccerror = dhnptlist[12-2:,2]\n",
    "dhsf = dhnptlist[12:-2,3]\n",
    "dhsferror = dhnptlist[12:-2,4]\n",
    "for a in xrange(len(ttnpt)):\n",
    "    dhfcc[a] += -U0fcc- ttnpt[a]*kbev*nfreefcc/2.\n",
    "    dhsf[a] += -U0sf- ttnpt[a]*kbev*nfreesf/2.\n",
    "    \n",
    "plt.plot(ttnpt,dhfcc)\n",
    "plt.plot(ttnpt,dhsf)\n",
    "plt.show()"
   ]
  },
  {
   "cell_type": "markdown",
   "metadata": {},
   "source": [
    "#### TI wrt T, starting at T_0=90K"
   ]
  },
  {
   "cell_type": "code",
   "execution_count": 159,
   "metadata": {},
   "outputs": [],
   "source": [
    "intdhfcc=np.zeros((len(ttnpt)-1,3))\n",
    "it=0.0\n",
    "iterror=0.0\n",
    "for i in xrange(len(ttnpt)-1):\n",
    "    T1=ttnpt[i+1]\n",
    "    it += 0.5*(dhfcc[i]/ttnpt[i]+dhfcc[i+1]/ttnpt[i+1])*(ltnpt[i+1]-ltnpt[i])\n",
    "    iterror += 0.5*((dhfccerror[i]/ttnpt[i])**2.+(dhfccerror[i+1]/ttnpt[i+1])**2.)*(ltnpt[i+1]-ltnpt[i])\n",
    "    intdhfcc[i,0]=T1\n",
    "    intdhfcc[i,1]=-it*T1\n",
    "    intdhfcc[i,2]=np.sqrt(iterror)*T1\n",
    "#print intdhfcc\n",
    "#plt.plot(intdhfcc[:,0],intdhfcc[:,1])\n",
    "#plt.show()"
   ]
  },
  {
   "cell_type": "code",
   "execution_count": 160,
   "metadata": {},
   "outputs": [
    {
     "data": {
      "image/png": "[encoded data removed]",
      "text/plain": [
       "<matplotlib.figure.Figure at 0x7fb64c514c90>"
      ]
     },
     "metadata": {},
     "output_type": "display_data"
    }
   ],
   "source": [
    "intdhsf=np.zeros((len(ttnpt)-1,3))\n",
    "it=0.0\n",
    "iterror=0.0\n",
    "for i in xrange(len(ttnpt)-1):\n",
    "    T1=ttnpt[i+1]\n",
    "    it += 0.5*(dhsf[i]/ttnpt[i]+dhsf[i+1]/ttnpt[i+1])*(ltnpt[i+1]-ltnpt[i])\n",
    "    iterror += 0.5*((dhsferror[i]/ttnpt[i])**2.+(dhsferror[i+1]/ttnpt[i+1])**2.)*(ltnpt[i+1]-ltnpt[i])\n",
    "    intdhsf[i,0]=T1\n",
    "    intdhsf[i,1]=-it*T1\n",
    "    intdhsf[i,2]=np.sqrt(iterror)*T1\n",
    "#print intdhsf\n",
    "plt.plot(intdhsf[:,0],intdhsf[:,1])\n",
    "plt.show()"
   ]
  },
  {
   "cell_type": "markdown",
   "metadata": {},
   "source": [
    "## Now we put all the pieces together\n",
    "## From the paper we have\n",
    "###     $\\dfrac{G(P,T_1)}{k_B T_1} = \\dfrac{G(P,0)}{k_B T_1}+ \\dfrac{G(P,T_0) - G(P,0)}{k_B T_0} -(3N-3) \\ln(\\dfrac{T_1}{T_0})- \\int_{T_0}^{T_1} \\dfrac{\\left<\\delta H\\right>_{P,T}}{k_B T^2} dT.$\n",
    "### so\n",
    "### $G(P,T_1) = \\left<U\\right>_{P,0}+ \\dfrac{T_1}{T_0}(G(P,T_0) - \\left<U\\right>_{P,0}) -(3N-3)k_B T_1 \\ln(\\dfrac{T_1}{T_0})-T_1\\int_{\\ln T_0}^{\\ln T_1} \\left<\\delta H\\right>_{P,T}e^{-y} dy$\n",
    "### Note: These expressions are for systems with contrained center of mass"
   ]
  },
  {
   "cell_type": "code",
   "execution_count": 161,
   "metadata": {},
   "outputs": [
    {
     "name": "stdout",
     "output_type": "stream",
     "text": [
      "[[  1.15000000e+02  -6.36770769e+03   1.15173087e-03]\n",
      " [  1.48000000e+02  -6.37001975e+03   1.69722240e-03]\n",
      " [  1.90000000e+02  -6.37694251e+03   2.35325043e-03]\n",
      " [  2.44000000e+02  -6.39096429e+03   3.17187676e-03]\n",
      " [  3.14000000e+02  -6.41585367e+03   4.24717164e-03]\n",
      " [  4.03000000e+02  -6.45608665e+03   5.64812163e-03]\n",
      " [  5.18000000e+02  -6.51927665e+03   7.50386825e-03]\n",
      " [  6.65000000e+02  -6.61459854e+03   9.93613477e-03]\n",
      " [  8.54000000e+02  -6.75625470e+03   1.31471593e-02]\n",
      " [  1.09600000e+03  -6.96285693e+03   1.73755283e-02]\n",
      " [  1.40800000e+03  -7.26327210e+03   2.30016124e-02]\n",
      " [  1.80800000e+03  -7.69536600e+03   3.04811242e-02]]\n"
     ]
    }
   ],
   "source": [
    "Gfcc=np.zeros((len(ttnpt)-1,3))\n",
    "for i in xrange(len(ttnpt)-1):\n",
    "    T1=intdhfcc[i,0]\n",
    "    Gfcc[i,0]=T1\n",
    "    Gfcc[i,1]=intdhfcc[i,1]+U0fcc+(T1/T0)*(GfccT0-U0fcc)-nfreefcc*kbev*T1*np.log(T1/T0)\n",
    "    Gfcc[i,2]=intdhfcc[i,2]+(T1/T0)*GfccT0error\n",
    "print Gfcc"
   ]
  },
  {
   "cell_type": "code",
   "execution_count": 162,
   "metadata": {},
   "outputs": [
    {
     "name": "stdout",
     "output_type": "stream",
     "text": [
      "[[  1.15000000e+02  -5.83493672e+03   1.45613881e-03]\n",
      " [  1.48000000e+02  -5.83710279e+03   2.11939509e-03]\n",
      " [  1.90000000e+02  -5.84350595e+03   2.96222848e-03]\n",
      " [  2.44000000e+02  -5.85642995e+03   4.06987814e-03]\n",
      " [  3.14000000e+02  -5.87933264e+03   5.54780356e-03]\n",
      " [  4.03000000e+02  -5.91631819e+03   7.48723307e-03]\n",
      " [  5.18000000e+02  -5.97436996e+03   1.00802976e-02]\n",
      " [  6.65000000e+02  -6.06189889e+03   1.35169266e-02]\n",
      " [  8.54000000e+02  -6.19192395e+03   1.81170136e-02]\n",
      " [  1.09600000e+03  -6.38149758e+03   2.42818111e-02]\n",
      " [  1.40800000e+03  -6.65706520e+03   3.26968507e-02]\n",
      " [  1.80800000e+03  -7.05333284e+03   4.46083333e-02]]\n"
     ]
    },
    {
     "data": {
      "image/png": "[encoded data removed]",
      "text/plain": [
       "<matplotlib.figure.Figure at 0x7fb64c564990>"
      ]
     },
     "metadata": {},
     "output_type": "display_data"
    }
   ],
   "source": [
    "Gsf=np.zeros((len(ttnpt)-1,3))\n",
    "for i in xrange(len(ttnpt)-1):\n",
    "    T1=intdhsf[i,0]\n",
    "    Gsf[i,0]=T1\n",
    "    Gsf[i,1]=intdhsf[i,1]+U0sf+(T1/T0)*(GsfT0-U0sf)-nfreesf*kbev*T1*np.log(T1/T0)\n",
    "    Gsf[i,2]=intdhsf[i,2]+(T1/T0)*GsfT0error\n",
    "\n",
    "print Gsf\n",
    "\n",
    "plt.plot(Gfcc[:,0],Gfcc[:,1])\n",
    "plt.plot(Gsf[:,0],Gsf[:,1])\n",
    "plt.show()"
   ]
  },
  {
   "cell_type": "markdown",
   "metadata": {},
   "source": [
    "# This the free energy associated with the center of mass\n",
    "### $\\Delta A_{cm}(N, V, T)=-k_B T\\left(\\ln\\dfrac{V}{N \\Lambda^3}+\\dfrac{3}{2}\\ln N\\right)$\n",
    "### $ \\Lambda=(2\\pi \\hbar^2/(atomicmass\\times dalton \\times k_B  T))^{1/2}=17.458218 /\\sqrt{T*atomicmass}~A$\n",
    "### For FCC Ni At 0K, $V/N=10.9036 A^3$\n",
    "### Now we add this to the free energy in order to retrieve the free energy of the uncontrained system"
   ]
  },
  {
   "cell_type": "code",
   "execution_count": 163,
   "metadata": {},
   "outputs": [
    {
     "name": "stdout",
     "output_type": "stream",
     "text": [
      "[[  1.15000000e+02  -6.36788552e+03   1.15173087e-03]\n",
      " [  1.48000000e+02  -6.37025343e+03   1.69722240e-03]\n",
      " [  1.90000000e+02  -6.37724864e+03   2.35325043e-03]\n",
      " [  2.44000000e+02  -6.39136532e+03   3.17187676e-03]\n",
      " [  3.14000000e+02  -6.41637997e+03   4.24717164e-03]\n",
      " [  4.03000000e+02  -6.45677514e+03   5.64812163e-03]\n",
      " [  5.18000000e+02  -6.52017841e+03   7.50386825e-03]\n",
      " [  6.65000000e+02  -6.61577767e+03   9.93613477e-03]\n",
      " [  8.54000000e+02  -6.75779657e+03   1.31471593e-02]\n",
      " [  1.09600000e+03  -6.96487107e+03   1.73755283e-02]\n",
      " [  1.40800000e+03  -7.26590520e+03   2.30016124e-02]\n",
      " [  1.80800000e+03  -7.69880558e+03   3.04811242e-02]]\n"
     ]
    }
   ],
   "source": [
    "massni=58.6934\n",
    "vdivideN=10.9036\n",
    "for i in xrange(len(Gfcc)):\n",
    "    T1 = Gfcc[i,0]\n",
    "    acm = -kbev*T1*(np.log(vdivideN/(17.458218/np.sqrt(T1*massni))**3.)+1.5*np.log(natomfcc))\n",
    "    #print T1, acm\n",
    "    Gfcc[i,1] += acm\n",
    "print Gfcc"
   ]
  },
  {
   "cell_type": "code",
   "execution_count": 164,
   "metadata": {},
   "outputs": [
    {
     "name": "stdout",
     "output_type": "stream",
     "text": [
      "[[  1.15000000e+02  -5.83511325e+03   1.45613881e-03]\n",
      " [  1.48000000e+02  -5.83733481e+03   2.11939509e-03]\n",
      " [  1.90000000e+02  -5.84380994e+03   2.96222848e-03]\n",
      " [  2.44000000e+02  -5.85682823e+03   4.06987814e-03]\n",
      " [  3.14000000e+02  -5.87985542e+03   5.54780356e-03]\n",
      " [  4.03000000e+02  -5.91700214e+03   7.48723307e-03]\n",
      " [  5.18000000e+02  -5.97526589e+03   1.00802976e-02]\n",
      " [  6.65000000e+02  -6.06307055e+03   1.35169266e-02]\n",
      " [  8.54000000e+02  -6.19345622e+03   1.81170136e-02]\n",
      " [  1.09600000e+03  -6.38349940e+03   2.42818111e-02]\n",
      " [  1.40800000e+03  -6.65968247e+03   3.26968507e-02]\n",
      " [  1.80800000e+03  -7.05675209e+03   4.46083333e-02]]\n"
     ]
    }
   ],
   "source": [
    "for i in xrange(len(Gsf)):\n",
    "    T1 = Gsf[i,0]\n",
    "    acm = -kbev*T1*(np.log(vdivideN/(17.458218/np.sqrt(T1*massni))**3.)+1.5*np.log(natomsf))\n",
    "    #print T1, acm\n",
    "    Gsf[i,1] += acm\n",
    "print Gsf"
   ]
  },
  {
   "cell_type": "markdown",
   "metadata": {
    "collapsed": true
   },
   "source": [
    "# Now compute stacking fault free energy\n",
    "### $G_\\text{SF} = G_\\text{sf} - \\dfrac{N_\\text{sf}}{N_\\text{fcc}} G_\\text{fcc}$"
   ]
  },
  {
   "cell_type": "code",
   "execution_count": 165,
   "metadata": {},
   "outputs": [
    {
     "data": {
      "image/png": "[encoded data removed]",
      "text/plain": [
       "<matplotlib.figure.Figure at 0x7fb64c244990>"
      ]
     },
     "metadata": {},
     "output_type": "display_data"
    }
   ],
   "source": [
    "Gv=np.zeros((len(ttnpt)-1,3))\n",
    "for i in xrange(len(ttnpt)-1):\n",
    "    T1=Gsf[i,0]\n",
    "    Gv[i,0]=T1\n",
    "    Gv[i,1]=Gsf[i,1]-Gfcc[i,1]*natomsf/natomfcc\n",
    "    Gv[i,2]=np.sqrt(Gsf[i,2]**2.0+Gfcc[i,2]**2.0)\n",
    "    \n",
    "plt.plot(Gv[:,0],Gv[:,1])\n",
    "plt.show()"
   ]
  }
 ],
 "metadata": {
  "kernelspec": {
   "display_name": "Python 2",
   "language": "python",
   "name": "python2"
  },
  "language_info": {
   "codemirror_mode": {
    "name": "ipython",
    "version": 2
   },
   "file_extension": ".py",
   "mimetype": "text/x-python",
   "name": "python",
   "nbconvert_exporter": "python",
   "pygments_lexer": "ipython2",
   "version": "2.7.13"
  }
 },
 "nbformat": 4,
 "nbformat_minor": 2
}
