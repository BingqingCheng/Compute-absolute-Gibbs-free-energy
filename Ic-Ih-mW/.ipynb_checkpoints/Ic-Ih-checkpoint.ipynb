{
 "cells": [
  {
   "cell_type": "markdown",
   "metadata": {},
   "source": [
    "# Init"
   ]
  },
  {
   "cell_type": "code",
   "execution_count": 1,
   "metadata": {
    "collapsed": true
   },
   "outputs": [],
   "source": [
    "import numpy as np\n",
    "import matplotlib.pyplot as plt\n",
    "from scipy import stats"
   ]
  },
  {
   "cell_type": "code",
   "execution_count": 2,
   "metadata": {
    "collapsed": true
   },
   "outputs": [],
   "source": [
    "kb = 3.1668105e-06 # in hartree\n",
    "ha2ev = 27.211386\n",
    "kcalmol2ev = 0.043364104\n",
    "kbev = kb*ha2ev # in eV\n",
    "T0=90\n",
    "natomih=1728\n",
    "natomic=1728\n",
    "nfreeih=(natomih-1)*3\n",
    "nfreeic=(natomic-1)*3"
   ]
  },
  {
   "cell_type": "markdown",
   "metadata": {},
   "source": [
    "## The energy units in this notebook is in eV, unless specified otherwise"
   ]
  },
  {
   "cell_type": "markdown",
   "metadata": {},
   "source": [
    "# 0K results"
   ]
  },
  {
   "cell_type": "code",
   "execution_count": 3,
   "metadata": {},
   "outputs": [
    {
     "name": "stdout",
     "output_type": "stream",
     "text": [
      "0.0\n"
     ]
    }
   ],
   "source": [
    "U0ih=-21386.636 * kcalmol2ev # in kcal/mol\n",
    "U0ic=-21386.636 * kcalmol2ev\n",
    "print(U0ic-U0ih*natomic/natomih)"
   ]
  },
  {
   "cell_type": "markdown",
   "metadata": {},
   "source": [
    "# The free energy of the reference harmonic system with fixed mass at 90K\n",
    "### $A_\\text{h}(T_0)=k_B T_0\\sum_{i=1}^{3N-3}\\ln(\\dfrac{\\hbar \\omega_i}{k_B T_0})$"
   ]
  },
  {
   "cell_type": "code",
   "execution_count": 4,
   "metadata": {},
   "outputs": [
    {
     "name": "stdout",
     "output_type": "stream",
     "text": [
      "21.0399708741\n"
     ]
    }
   ],
   "source": [
    "T0=90\n",
    "eva = np.loadtxt(\"ipi-90K/phonon-90K/ih-90K.eigval\")\n",
    "# The square root of the eigenvalues of the phonon modes is the frequency in the unit of hartree\n",
    "AharmihT0 = ha2ev*T0*kb*np.log(np.sqrt(eva[3:])/(T0*kb)).sum()\n",
    "print(AharmihT0)"
   ]
  },
  {
   "cell_type": "code",
   "execution_count": 5,
   "metadata": {},
   "outputs": [
    {
     "name": "stdout",
     "output_type": "stream",
     "text": [
      "21.0312847652\n"
     ]
    }
   ],
   "source": [
    "eva = np.loadtxt(\"ipi-90K/phonon-90K/ic-90K.eigval\")\n",
    "# The square root of the eigenvalues of the phonon modes is the frequency in the unit of hartree\n",
    "AharmicT0 = ha2ev*T0*kb*np.log(np.sqrt(eva[3:])/(T0*kb)).sum()\n",
    "print(AharmicT0)"
   ]
  },
  {
   "cell_type": "code",
   "execution_count": 6,
   "metadata": {},
   "outputs": [
    {
     "data": {
      "text/plain": [
       "-0.0086861089368355238"
      ]
     },
     "execution_count": 6,
     "metadata": {},
     "output_type": "execute_result"
    }
   ],
   "source": [
    "AharmicT0-AharmihT0"
   ]
  },
  {
   "cell_type": "markdown",
   "metadata": {},
   "source": [
    "# Anharmonic correction of A at 90K\n",
    "### $A(V,T_0)-A_\\text{h}(V,T_0)=\\int_0^1 d \\lambda \\left<U-U_\\text{h}\\right>_{V,T_0,\\lambda}$"
   ]
  },
  {
   "cell_type": "code",
   "execution_count": 10,
   "metadata": {},
   "outputs": [
    {
     "name": "stdout",
     "output_type": "stream",
     "text": [
      "(-927.7848745, 2.4958181199112229e-08)\n",
      "(21.039970874131264, -927.4123077141439, -927.7848745)\n",
      "(-906.74490362586869, '+/-', 2.4958181199112229e-08)\n"
     ]
    }
   ],
   "source": [
    "dhdlih = np.loadtxt(\"ipi-90K/lambda-ti/dhdl.ih\")\n",
    "it=0.0\n",
    "iterror=0.0\n",
    "for i in range(len(dhdlih)-1):\n",
    "    #print dhdlih[i,0],dhdlih[i,1]\n",
    "    it += 0.5*(dhdlih[i,1]+dhdlih[i+1,1])*(dhdlih[i+1,0]-dhdlih[i,0])\n",
    "    iterror += 0.5*(dhdlih[i,2]**2.+dhdlih[i,2]**2.)*(dhdlih[i+1,0]-dhdlih[i,0])\n",
    "print(it, iterror)\n",
    "AanhihT0=it\n",
    "AanhihT0error=iterror\n",
    "AihT0=AharmihT0+AanhihT0\n",
    "print(AharmihT0, U0ih, AanhihT0)\n",
    "print(AihT0, \"+/-\", AanhihT0error)"
   ]
  },
  {
   "cell_type": "code",
   "execution_count": 12,
   "metadata": {},
   "outputs": [
    {
     "name": "stdout",
     "output_type": "stream",
     "text": [
      "(-927.78577949999999, 2.6939120976098456e-07)\n",
      "(21.031284765194428, -927.4123077141439, -927.78577949999999)\n",
      "(-906.75449473480558, '+/-', 2.6939120976098456e-07)\n"
     ]
    }
   ],
   "source": [
    "dhdlic = np.loadtxt(\"ipi-90K/lambda-ti/dhdl.ic\")\n",
    "it=0.0\n",
    "iterror=0.0\n",
    "for i in range(len(dhdlic)-1):\n",
    "    it += 0.5*(dhdlic[i,1]+dhdlic[i+1,1])*(dhdlic[i+1,0]-dhdlic[i,0])\n",
    "    iterror += 0.5*(dhdlic[i,2]**2.+dhdlic[i,2]**2.)*(dhdlic[i+1,0]-dhdlic[i,0])\n",
    "print(it, iterror)\n",
    "AanhicT0=it\n",
    "AanhicT0error=iterror\n",
    "AicT0=AharmicT0+AanhicT0\n",
    "print(AharmicT0, U0ic, AanhicT0)\n",
    "print(AicT0, \"+/-\", AanhicT0error)"
   ]
  },
  {
   "cell_type": "markdown",
   "metadata": {},
   "source": [
    "# Transform the Helmholtz free energy to the Gibbs free energy\n",
    "#### We used the isothermal-isobaric ensemble (NPT) in the simulations with zero external pressure, and allowed the 3 dimensions of the orthorhombic simulation cell are allowed to fluctuate independently. In this case we have\n",
    "#### $G(P,T) = A (\\textbf{h},T) + P \\text{det}(\\textbf{h}) + k_B T \\ln \\rho(\\textbf{h}|P,T)$.\n",
    "#### As $P=0$ in our case, so here we only need to compute $k_B T \\ln \\rho(\\textbf{h}|P,T)$\n",
    "#### For convinience, we used a bash script (processrhoxyz.sh) to compute this quantity."
   ]
  },
  {
   "cell_type": "code",
   "execution_count": 13,
   "metadata": {},
   "outputs": [
    {
     "name": "stdout",
     "output_type": "stream",
     "text": [
      "('Gih90K:', -906.68122772586867, '+/-', 0.00016355695818119913)\n",
      "('Gic 90K:', -906.69107263480555, '+/-', 0.00016567539120976099)\n"
     ]
    }
   ],
   "source": [
    "A2GihT0=[0.0636759, 0.000163532]\n",
    "A2GicT0=[0.0634221, 0.000165406]\n",
    "\n",
    "GihT0=AihT0+A2GihT0[0]\n",
    "GihT0error=AanhihT0error+A2GihT0[1]\n",
    "print(\"Gih90K:\",GihT0, \"+/-\", GihT0error)\n",
    "\n",
    "GicT0=AicT0+A2GicT0[0]\n",
    "GicT0error=AanhicT0error+A2GicT0[1]\n",
    "print(\"Gic 90K:\",GicT0, \"+/-\", GicT0error)\n"
   ]
  },
  {
   "cell_type": "markdown",
   "metadata": {},
   "source": [
    "# Thermodynamic Intergation at NPT\n",
    "## $-T_1\\int_{T_0}^{T_1} \\dfrac{\\left<\\delta H\\right>_{P,T}}{ T^2} dT=-T_1\\int_{\\ln T_0}^{\\ln T_1} \\left<\\delta H\\right>_{P,T}e^{-y} dy$,\n",
    "\n",
    "## In our case P=0 so $H=U$"
   ]
  },
  {
   "cell_type": "code",
   "execution_count": 15,
   "metadata": {},
   "outputs": [
    {
     "data": {
      "image/png": "[encoded data removed]",
      "text/plain": [
       "<matplotlib.figure.Figure at 0x7f26ec4ae150>"
      ]
     },
     "metadata": {},
     "output_type": "display_data"
    }
   ],
   "source": [
    "dhnptlist = np.sort(np.loadtxt(\"lammps-npt/PE.list\"), axis=0) # in kcal/mol\n",
    "#print dhnptlist\n",
    "ttnpt = dhnptlist[:,0]\n",
    "ltnpt = np.log(ttnpt)\n",
    "#print ttnpt\n",
    "\n",
    "dhih = dhnptlist[:,1] * kcalmol2ev\n",
    "dhiherror = dhnptlist[:,2]* kcalmol2ev\n",
    "dhic = dhnptlist[:,3] * kcalmol2ev\n",
    "dhicerror = dhnptlist[:,4]* kcalmol2ev\n",
    "for a in range(len(ttnpt)):\n",
    "    dhih[a] += -U0ih- ttnpt[a]*kbev*nfreeih/2.\n",
    "    dhic[a] += -U0ic- ttnpt[a]*kbev*nfreeic/2.\n",
    "    \n",
    "plt.plot(ttnpt,dhih)\n",
    "plt.plot(ttnpt,dhic)\n",
    "plt.show()"
   ]
  },
  {
   "cell_type": "markdown",
   "metadata": {},
   "source": [
    "#### TI wrt T, starting at T_0=90K"
   ]
  },
  {
   "cell_type": "code",
   "execution_count": 16,
   "metadata": {},
   "outputs": [
    {
     "name": "stdout",
     "output_type": "stream",
     "text": [
      "[[  1.05000000e+02  -4.71276059e-01   1.44893255e-03]\n",
      " [  1.20000000e+02  -6.76530687e-01   1.24724942e-03]\n",
      " [  1.35000000e+02  -9.23131482e-01   1.21339734e-03]\n",
      " [  1.50000000e+02  -1.21192782e+00   1.22474206e-03]\n",
      " [  1.65000000e+02  -1.54398701e+00   1.25289165e-03]\n",
      " [  1.80000000e+02  -1.91987484e+00   1.29088987e-03]\n",
      " [  1.95000000e+02  -2.34013728e+00   1.33229938e-03]\n",
      " [  2.10000000e+02  -2.80545324e+00   1.37669163e-03]\n",
      " [  2.25000000e+02  -3.31628742e+00   1.42244975e-03]\n",
      " [  2.40000000e+02  -3.87375342e+00   1.46716299e-03]\n",
      " [  2.55000000e+02  -4.47912038e+00   1.51197480e-03]\n",
      " [  2.70000000e+02  -5.13396210e+00   1.55749271e-03]\n",
      " [  2.85000000e+02  -5.84075509e+00   1.60356542e-03]]\n"
     ]
    },
    {
     "data": {
      "image/png": "[encoded data removed]",
      "text/plain": [
       "<matplotlib.figure.Figure at 0x7f26ec360610>"
      ]
     },
     "metadata": {},
     "output_type": "display_data"
    }
   ],
   "source": [
    "intdhih=np.zeros((len(ttnpt)-1,3))\n",
    "it=0.0\n",
    "iterror=0.0\n",
    "for i in range(len(ttnpt)-1):\n",
    "    T1=ttnpt[i+1]\n",
    "    it += 0.5*(dhih[i]/ttnpt[i]+dhih[i+1]/ttnpt[i+1])*(ltnpt[i+1]-ltnpt[i])\n",
    "    iterror += 0.5*((dhiherror[i]/ttnpt[i])**2.+(dhiherror[i+1]/ttnpt[i+1])**2.)*(ltnpt[i+1]-ltnpt[i])\n",
    "    intdhih[i,0]=T1\n",
    "    intdhih[i,1]=-it*T1\n",
    "    intdhih[i,2]=np.sqrt(iterror)*T1/np.sqrt(i+1)\n",
    "print(intdhih)\n",
    "plt.plot(intdhih[:,0],intdhih[:,1])\n",
    "plt.show()"
   ]
  },
  {
   "cell_type": "code",
   "execution_count": 17,
   "metadata": {},
   "outputs": [
    {
     "data": {
      "image/png": "[encoded data removed]",
      "text/plain": [
       "<matplotlib.figure.Figure at 0x7f26e8f831d0>"
      ]
     },
     "metadata": {},
     "output_type": "display_data"
    }
   ],
   "source": [
    "intdhic=np.zeros((len(ttnpt),3))\n",
    "it=0.0\n",
    "iterror=0.0\n",
    "for i in range(len(ttnpt)-1):\n",
    "    T1=ttnpt[i+1]\n",
    "    it += 0.5*(dhic[i]/ttnpt[i]+dhic[i+1]/ttnpt[i+1])*(ltnpt[i+1]-ltnpt[i])\n",
    "    iterror += 0.5*((dhicerror[i]/ttnpt[i])**2.+(dhicerror[i+1]/ttnpt[i+1])**2.)*(ltnpt[i+1]-ltnpt[i])\n",
    "    intdhic[i,0]=T1\n",
    "    intdhic[i,1]=-it*T1\n",
    "    intdhic[i,2]=np.sqrt(iterror)*T1/np.sqrt(i+1)\n",
    "#print intdhic\n",
    "plt.plot(intdhih[:,0],intdhih[:,1])\n",
    "plt.plot(intdhic[:,0],intdhic[:,1])\n",
    "plt.show()"
   ]
  },
  {
   "cell_type": "markdown",
   "metadata": {},
   "source": [
    "## Now we put all the pieces together\n",
    "## From the paper we have\n",
    "###     $\\dfrac{G(P,T_1)}{k_B T_1} = \\dfrac{G(P,0)}{k_B T_1}+ \\dfrac{G(P,T_0) - G(P,0)}{k_B T_0} -(3N-3) \\ln(\\dfrac{T_1}{T_0})- \\int_{T_0}^{T_1} \\dfrac{\\left<\\delta H\\right>_{P,T}}{k_B T^2} dT.$\n",
    "### so\n",
    "### $G(P,T_1) = G(P,0)+ \\dfrac{T_1}{T_0}(G(P,T_0) - G(P,0)) -(3N-3)k_B T_1 \\ln(\\dfrac{T_1}{T_0})-T_1\\int_{\\ln T_0}^{\\ln T_1} \\left<\\delta H\\right>_{P,T}e^{-y} dy$\n",
    "### Note: These expressions are for systems with contrained center of mass"
   ]
  },
  {
   "cell_type": "code",
   "execution_count": 18,
   "metadata": {},
   "outputs": [
    {
     "name": "stdout",
     "output_type": "stream",
     "text": [
      "[[  9.00000000e+01  -9.06681228e+02   1.63556958e-04]\n",
      " [  1.05000000e+02  -9.10923708e+02   1.63974900e-03]\n",
      " [  1.20000000e+02  -9.15860157e+02   1.46532536e-03]\n",
      " [  1.35000000e+02  -9.21677265e+02   1.45873277e-03]\n",
      " [  1.50000000e+02  -9.28282214e+02   1.49733699e-03]\n",
      " [  1.65000000e+02  -9.35601243e+02   1.55274607e-03]\n",
      " [  1.80000000e+02  -9.43573755e+02   1.61800379e-03]\n",
      " [  1.95000000e+02  -9.52149370e+02   1.68667279e-03]\n",
      " [  2.10000000e+02  -9.61285698e+02   1.75832453e-03]\n",
      " [  2.25000000e+02  -9.70946307e+02   1.83134215e-03]\n",
      " [  2.40000000e+02  -9.81100342e+02   1.90331488e-03]\n",
      " [  2.55000000e+02  -9.91721111e+02   1.97538618e-03]\n",
      " [  2.70000000e+02  -1.00278552e+03   2.04816358e-03]\n",
      " [  2.85000000e+02  -1.01427413e+03   2.12149579e-03]]\n"
     ]
    }
   ],
   "source": [
    "Gih=np.zeros((len(ttnpt),3))\n",
    "Gih[0,:]=[T0,GihT0, GihT0error]\n",
    "for i in range(len(ttnpt)-1):\n",
    "    T1=intdhih[i,0]\n",
    "    Gih[i+1,0]=T1\n",
    "    Gih[i+1,1]=intdhih[i,1]+U0ih+(T1/T0)*(GihT0-U0ih)-nfreeih*kbev*T1*np.log(T1/T0)\n",
    "    Gih[i+1,2]=intdhih[i,2]+(T1/T0)*GihT0error\n",
    "print(Gih)"
   ]
  },
  {
   "cell_type": "code",
   "execution_count": 19,
   "metadata": {},
   "outputs": [
    {
     "name": "stdout",
     "output_type": "stream",
     "text": [
      "[[  9.00000000e+01  -9.06691073e+02   1.65675391e-04]\n",
      " [  1.05000000e+02  -9.10930056e+02   2.17860584e-03]\n",
      " [  1.20000000e+02  -9.15866011e+02   1.93972356e-03]\n",
      " [  1.35000000e+02  -9.21681414e+02   1.92735868e-03]\n",
      " [  1.50000000e+02  -9.28283831e+02   1.98430971e-03]\n",
      " [  1.65000000e+02  -9.35598542e+02   2.06646425e-03]\n",
      " [  1.80000000e+02  -9.43564855e+02   2.16088084e-03]\n",
      " [  1.95000000e+02  -9.52132423e+02   2.26088835e-03]\n",
      " [  2.10000000e+02  -9.61258523e+02   2.36337736e-03]\n",
      " [  2.25000000e+02  -9.70907295e+02   2.47067662e-03]\n",
      " [  2.40000000e+02  -9.81046786e+02   2.57823519e-03]\n",
      " [  2.55000000e+02  -9.91650150e+02   2.68094748e-03]\n",
      " [  2.70000000e+02  -1.00269441e+03   2.77910668e-03]\n",
      " [  2.85000000e+02  -1.01416005e+03   2.87868941e-03]]\n"
     ]
    },
    {
     "data": {
      "image/png": "[encoded data removed]",
      "text/plain": [
       "<matplotlib.figure.Figure at 0x7f26e8ef9ed0>"
      ]
     },
     "metadata": {},
     "output_type": "display_data"
    }
   ],
   "source": [
    "Gic=np.zeros((len(ttnpt),3))\n",
    "Gic[0,:]=[T0,GicT0, GicT0error]\n",
    "for i in range(len(ttnpt)-1):\n",
    "    T1=intdhic[i,0]\n",
    "    Gic[i+1,0]=T1\n",
    "    Gic[i+1,1]=intdhic[i,1]+U0ic+(T1/T0)*(GicT0-U0ic)-nfreeic*kbev*T1*np.log(T1/T0)\n",
    "    Gic[i+1,2]=intdhic[i,2]+(T1/T0)*GicT0error\n",
    "\n",
    "print(Gic)\n",
    "\n",
    "plt.plot(Gih[:,0],Gih[:,1]/natomih-Gic[:,1]/natomic)\n",
    "#plt.plot(Gic[:,0],Gic[:,1]/natomic)\n",
    "plt.show()"
   ]
  },
  {
   "cell_type": "markdown",
   "metadata": {
    "collapsed": true
   },
   "source": [
    "# Now compute the chemical potential dif\n",
    "### $\\mu = G_\\text{Ic}/N_{Ic} - G_\\text{Ih}/N{Ih}$"
   ]
  },
  {
   "cell_type": "code",
   "execution_count": 20,
   "metadata": {},
   "outputs": [
    {
     "data": {
      "image/png": "[encoded data removed]",
      "text/plain": [
       "<matplotlib.figure.Figure at 0x7f26e901ae10>"
      ]
     },
     "metadata": {},
     "output_type": "display_data"
    }
   ],
   "source": [
    "ev2kjmol=96.485336\n",
    "# mu unit in eV\n",
    "mu=np.zeros((len(ttnpt)-1,3))\n",
    "mukjmol=np.zeros((len(ttnpt)-1,3))\n",
    "for i in range(len(ttnpt)-1):\n",
    "    T1=Gic[i,0]\n",
    "    mu[i,0]=mukjmol[i,0]=T1\n",
    "    mu[i,1]=Gic[i,1]/natomic-Gih[i,1]/natomih\n",
    "    mu[i,2]=np.sqrt((Gic[i,2]/natomic)**2.0+(Gih[i,2]/natomih)**2.0)\n",
    "    \n",
    "    mukjmol[i,1]=mu[i,1]*ev2kjmol\n",
    "    mukjmol[i,2]=mu[i,2]*ev2kjmol\n",
    "plt.errorbar(mukjmol[:,0],mukjmol[:,1],yerr=mukjmol[:,2])\n",
    "plt.show()"
   ]
  },
  {
   "cell_type": "code",
   "execution_count": 35,
   "metadata": {
    "collapsed": true
   },
   "outputs": [],
   "source": [
    "# unit in Kj/mol\n",
    "np.savetxt('mu-T.dat', mukjmol, fmt='%1.4e')"
   ]
  }
 ],
 "metadata": {
  "kernelspec": {
   "display_name": "Python 2",
   "language": "python",
   "name": "python2"
  },
  "language_info": {
   "codemirror_mode": {
    "name": "ipython",
    "version": 2
   },
   "file_extension": ".py",
   "mimetype": "text/x-python",
   "name": "python",
   "nbconvert_exporter": "python",
   "pygments_lexer": "ipython2",
   "version": "2.7.13"
  }
 },
 "nbformat": 4,
 "nbformat_minor": 2
}
