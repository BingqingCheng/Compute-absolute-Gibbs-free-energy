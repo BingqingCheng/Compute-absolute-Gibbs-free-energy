{
 "cells": [
  {
   "cell_type": "markdown",
   "metadata": {},
   "source": [
    "# Init"
   ]
  },
  {
   "cell_type": "code",
   "execution_count": 1,
   "metadata": {
    "collapsed": true
   },
   "outputs": [],
   "source": [
    "import numpy as np\n",
    "import matplotlib.pyplot as plt\n",
    "from scipy import stats"
   ]
  },
  {
   "cell_type": "code",
   "execution_count": 2,
   "metadata": {
    "collapsed": true
   },
   "outputs": [],
   "source": [
    "kb = 3.1668105e-06 # in hartree\n",
    "ha2ev = 27.211386\n",
    "kbev = kb*ha2ev # in eV\n",
    "T0=90\n",
    "natomfcc=1440\n",
    "natomsf=1320\n",
    "nfreefcc=(natomfcc-1)*3\n",
    "nfreesf=(natomsf-1)*3"
   ]
  },
  {
   "cell_type": "markdown",
   "metadata": {},
   "source": [
    "## The energy units in this notebook is in eV, unless specified otherwise"
   ]
  },
  {
   "cell_type": "markdown",
   "metadata": {},
   "source": [
    "# 0K results"
   ]
  },
  {
   "cell_type": "code",
   "execution_count": 3,
   "metadata": {
    "collapsed": true
   },
   "outputs": [],
   "source": [
    "U0fcc=-6137.04868222  # in eV\n",
    "U0sf=-5625.6279587"
   ]
  },
  {
   "cell_type": "markdown",
   "metadata": {},
   "source": [
    "# The free energy of the reference harmonic system with fixed mass at 90K\n",
    "### $A_\\text{h}(T_0)=k_B T_0\\sum_{i=1}^{3N-3}\\ln(\\dfrac{\\hbar \\omega_i}{k_B T_0})$"
   ]
  },
  {
   "cell_type": "code",
   "execution_count": 4,
   "metadata": {},
   "outputs": [
    {
     "name": "stdout",
     "output_type": "stream",
     "text": [
      "36.7716353617\n"
     ]
    }
   ],
   "source": [
    "T0=90\n",
    "eva = np.loadtxt(\"ipi-90K/phonon-0K/fcc-0K.eigval\")\n",
    "# The square root of the eigenvalues of the phonon modes is the frequency in the unit of hartree\n",
    "AharmfccT0 = ha2ev*T0*kb*np.log(np.sqrt(eva[3:])/(T0*kb)).sum()\n",
    "print AharmfccT0"
   ]
  },
  {
   "cell_type": "code",
   "execution_count": 5,
   "metadata": {},
   "outputs": [
    {
     "name": "stdout",
     "output_type": "stream",
     "text": [
      "33.7150138247\n"
     ]
    }
   ],
   "source": [
    "eva = np.loadtxt(\"ipi-90K/phonon-0K/sf-0K.eigval\")\n",
    "# The square root of the eigenvalues of the phonon modes is the frequency in the unit of hartree\n",
    "AharmsfT0 = ha2ev*T0*kb*np.log(np.sqrt(eva[3:])/(T0*kb)).sum()\n",
    "print AharmsfT0"
   ]
  },
  {
   "cell_type": "code",
   "execution_count": 6,
   "metadata": {},
   "outputs": [
    {
     "data": {
      "text/plain": [
       "0.076814098131308128"
      ]
     },
     "execution_count": 6,
     "metadata": {},
     "output_type": "execute_result"
    }
   ],
   "source": [
    "(AharmsfT0-AharmfccT0*11/12)*10"
   ]
  },
  {
   "cell_type": "markdown",
   "metadata": {},
   "source": [
    "# Anharmonic correction of A at 90K\n",
    "### $A(V,T_0)-A_\\text{h}(V,T_0)=\\int_0^1 d \\lambda \\left<U-U_\\text{h}\\right>_{V,T_0,\\lambda}$"
   ]
  },
  {
   "cell_type": "code",
   "execution_count": 7,
   "metadata": {},
   "outputs": [
    {
     "name": "stdout",
     "output_type": "stream",
     "text": [
      "36.7716353617 -6137.04868222 -6137.14757\n",
      "-6100.37593464 +/- 1.11485541137e-07\n"
     ]
    }
   ],
   "source": [
    "dhdlfcc = np.loadtxt(\"ipi-90K/lambda-ti/dhdl.fcc\")\n",
    "it=0.0\n",
    "iterror=0.0\n",
    "for i in xrange(len(dhdlfcc)-1):\n",
    "    #print dhdlfcc[i,0],dhdlfcc[i,1]\n",
    "    it += 0.5*(dhdlfcc[i,1]+dhdlfcc[i+1,1])*(dhdlfcc[i+1,0]-dhdlfcc[i,0])\n",
    "    iterror += 0.5*(dhdlfcc[i,2]**2.+dhdlfcc[i,2]**2.)*(dhdlfcc[i+1,0]-dhdlfcc[i,0])\n",
    "#print it, iterror\n",
    "AanhfccT0=it\n",
    "AanhfccT0error=iterror\n",
    "AfccT0=AharmfccT0+AanhfccT0\n",
    "print AharmfccT0, U0fcc, AanhfccT0\n",
    "print AfccT0, \"+/-\", AanhfccT0error"
   ]
  },
  {
   "cell_type": "code",
   "execution_count": 8,
   "metadata": {},
   "outputs": [
    {
     "name": "stdout",
     "output_type": "stream",
     "text": [
      "33.7150138247 -5625.6279587 -5625.718305\n",
      "-5592.00329118 +/- 5.89338450374e-08\n"
     ]
    }
   ],
   "source": [
    "dhdlsf = np.loadtxt(\"ipi-90K/lambda-ti/dhdl.sf\")\n",
    "it=0.0\n",
    "iterror=0.0\n",
    "for i in xrange(len(dhdlsf)-1):\n",
    "    it += 0.5*(dhdlsf[i,1]+dhdlsf[i+1,1])*(dhdlsf[i+1,0]-dhdlsf[i,0])\n",
    "    iterror += 0.5*(dhdlsf[i,2]**2.+dhdlsf[i,2]**2.)*(dhdlsf[i+1,0]-dhdlsf[i,0])\n",
    "#print it, iterror\n",
    "AanhsfT0=it\n",
    "AanhsfT0error=iterror\n",
    "AsfT0=AharmsfT0+AanhsfT0\n",
    "print AharmsfT0, U0sf, AanhsfT0\n",
    "print AsfT0, \"+/-\", AanhsfT0error"
   ]
  },
  {
   "cell_type": "markdown",
   "metadata": {},
   "source": [
    "# Transform the Helmholtz free energy to the Gibbs free energy\n",
    "#### We used the isothermal-isobaric ensemble (NPT) in the simulations with zero external pressure, and allowed the 3 dimensions of the orthorhombic simulation cell are allowed to fluctuate independently. In this case we have\n",
    "#### $G(P,T) = A (\\textbf{h},T) + P \\text{det}(\\textbf{h}) + k_B T \\ln \\rho(\\textbf{h}|P,T)$.\n",
    "#### As $P=0$ in our case, so here we only need to compute $k_B T \\ln \\rho(\\textbf{h}|P,T)$\n",
    "#### For convinience, we used a bash script (processrhoxyz.sh) to compute this quantity."
   ]
  },
  {
   "cell_type": "code",
   "execution_count": 10,
   "metadata": {},
   "outputs": [
    {
     "name": "stdout",
     "output_type": "stream",
     "text": [
      "Gfcc90K: -6100.28062764 +/- 0.000657012485541\n",
      "Gsf 90K: -5591.90967948 +/- 0.000727130933845\n"
     ]
    }
   ],
   "source": [
    "A2GfccT0=[0.095307, 0.000656901]\n",
    "A2GsfT0=[0.0936117, 0.000727072]\n",
    "\n",
    "GfccT0=AfccT0+A2GfccT0[0]\n",
    "GfccT0error=AanhfccT0error+A2GfccT0[1]\n",
    "print \"Gfcc90K:\",GfccT0, \"+/-\", GfccT0error\n",
    "\n",
    "GsfT0=AsfT0+A2GsfT0[0]\n",
    "GsfT0error=AanhsfT0error+A2GsfT0[1]\n",
    "print \"Gsf 90K:\",GsfT0, \"+/-\", GsfT0error\n"
   ]
  },
  {
   "cell_type": "markdown",
   "metadata": {},
   "source": [
    "# Thermodynamic Intergation at NPT\n",
    "## $-T_1\\int_{T_0}^{T_1} \\dfrac{\\left<\\delta H\\right>_{P,T}}{ T^2} dT=-T_1\\int_{\\ln T_0}^{\\ln T_1} \\left<\\delta H\\right>_{P,T}e^{-y} dy$,\n",
    "\n",
    "## In our case P=0 so $H=U$"
   ]
  },
  {
   "cell_type": "code",
   "execution_count": 12,
   "metadata": {},
   "outputs": [
    {
     "data": {
      "image/png": "[encoded data removed]",
      "text/plain": [
       "<matplotlib.figure.Figure at 0x7f0032b71250>"
      ]
     },
     "metadata": {},
     "output_type": "display_data"
    }
   ],
   "source": [
    "dhnptlist = np.sort(np.loadtxt(\"lammps-npt/PE.list\"), axis=0)\n",
    "#print dhnptlist\n",
    "ttnpt = dhnptlist[:,0]\n",
    "ltnpt = np.log(ttnpt)\n",
    "#print ttnpt\n",
    "\n",
    "dhfcc = dhnptlist[:,1]\n",
    "dhfccerror = dhnptlist[:,2]\n",
    "dhsf = dhnptlist[:,3]\n",
    "dhsferror = dhnptlist[:,4]\n",
    "for a in xrange(len(ttnpt)):\n",
    "    dhfcc[a] += -U0fcc- ttnpt[a]*kbev*nfreefcc/2.\n",
    "    dhsf[a] += -U0sf- ttnpt[a]*kbev*nfreesf/2.\n",
    "    \n",
    "plt.plot(ttnpt,dhfcc)\n",
    "plt.plot(ttnpt,dhsf)\n",
    "plt.show()"
   ]
  },
  {
   "cell_type": "markdown",
   "metadata": {},
   "source": [
    "#### TI wrt T, starting at T_0=90K"
   ]
  },
  {
   "cell_type": "code",
   "execution_count": 13,
   "metadata": {
    "collapsed": true
   },
   "outputs": [],
   "source": [
    "intdhfcc=np.zeros((len(ttnpt)-1,3))\n",
    "it=0.0\n",
    "iterror=0.0\n",
    "for i in xrange(len(ttnpt)-1):\n",
    "    T1=ttnpt[i+1]\n",
    "    it += 0.5*(dhfcc[i]/ttnpt[i]+dhfcc[i+1]/ttnpt[i+1])*(ltnpt[i+1]-ltnpt[i])\n",
    "    iterror += 0.5*((dhfccerror[i]/ttnpt[i])**2.+(dhfccerror[i+1]/ttnpt[i+1])**2.)*(ltnpt[i+1]-ltnpt[i])\n",
    "    intdhfcc[i,0]=T1\n",
    "    intdhfcc[i,1]=-it*T1\n",
    "    intdhfcc[i,2]=np.sqrt(iterror)*T1\n",
    "#print intdhfcc\n",
    "#plt.plot(intdhfcc[:,0],intdhfcc[:,1])\n",
    "#plt.show()"
   ]
  },
  {
   "cell_type": "code",
   "execution_count": 14,
   "metadata": {},
   "outputs": [
    {
     "data": {
      "image/png": "[encoded data removed]",
      "text/plain": [
       "<matplotlib.figure.Figure at 0x7f002f762f50>"
      ]
     },
     "metadata": {},
     "output_type": "display_data"
    }
   ],
   "source": [
    "intdhsf=np.zeros((len(ttnpt)-1,3))\n",
    "it=0.0\n",
    "iterror=0.0\n",
    "for i in xrange(len(ttnpt)-1):\n",
    "    T1=ttnpt[i+1]\n",
    "    it += 0.5*(dhsf[i]/ttnpt[i]+dhsf[i+1]/ttnpt[i+1])*(ltnpt[i+1]-ltnpt[i])\n",
    "    iterror += 0.5*((dhsferror[i]/ttnpt[i])**2.+(dhsferror[i+1]/ttnpt[i+1])**2.)*(ltnpt[i+1]-ltnpt[i])\n",
    "    intdhsf[i,0]=T1\n",
    "    intdhsf[i,1]=-it*T1\n",
    "    intdhsf[i,2]=np.sqrt(iterror)*T1\n",
    "#print intdhsf\n",
    "plt.plot(intdhsf[:,0],intdhsf[:,1])\n",
    "plt.show()"
   ]
  },
  {
   "cell_type": "markdown",
   "metadata": {},
   "source": [
    "## Now we put all the pieces together\n",
    "## From the paper we have\n",
    "###     $\\dfrac{G(P,T_1)}{k_B T_1} = \\dfrac{G(P,0)}{k_B T_1}+ \\dfrac{G(P,T_0) - G(P,0)}{k_B T_0} -(3N-3) \\ln(\\dfrac{T_1}{T_0})- \\int_{T_0}^{T_1} \\dfrac{\\left<\\delta H\\right>_{P,T}}{k_B T^2} dT.$\n",
    "### so\n",
    "### $G(P,T_1) = G(P,0)+ \\dfrac{T_1}{T_0}(G(P,T_0) - G(P,0)) -(3N-3)k_B T_1 \\ln(\\dfrac{T_1}{T_0})-T_1\\int_{\\ln T_0}^{\\ln T_1} \\left<\\delta H\\right>_{P,T}e^{-y} dy$\n",
    "### Note: These expressions are for systems with contrained center of mass"
   ]
  },
  {
   "cell_type": "code",
   "execution_count": 15,
   "metadata": {},
   "outputs": [
    {
     "name": "stdout",
     "output_type": "stream",
     "text": [
      "[[  9.90000000e+01  -6.10012725e+03   9.74458135e-04]\n",
      " [  1.09000000e+02  -6.10031548e+03   1.18590245e-03]\n",
      " [  1.21000000e+02  -6.10099286e+03   1.42044051e-03]\n",
      " [  1.34000000e+02  -6.10222914e+03   1.66717459e-03]\n",
      " [  1.48000000e+02  -6.10408817e+03   1.93039765e-03]\n",
      " [  1.63000000e+02  -6.10662969e+03   2.21230131e-03]\n",
      " [  1.81000000e+02  -6.11035813e+03   2.55188854e-03]\n",
      " [  2.00000000e+02  -6.11501958e+03   2.91269841e-03]\n",
      " [  2.21000000e+02  -6.12095472e+03   3.31477061e-03]\n",
      " [  2.44000000e+02  -6.12830818e+03   3.75909878e-03]\n",
      " [  2.70000000e+02  -6.13759129e+03   4.26614653e-03]\n",
      " [  2.98000000e+02  -6.14862967e+03   4.81747573e-03]\n",
      " [  3.30000000e+02  -6.16243897e+03   5.45381507e-03]\n",
      " [  3.64000000e+02  -6.17837296e+03   6.13666408e-03]\n",
      " [  4.03000000e+02  -6.19809562e+03   6.92779705e-03]\n",
      " [  4.45000000e+02  -6.22089688e+03   7.78843844e-03]\n",
      " [  4.92000000e+02  -6.24814725e+03   8.76108611e-03]\n",
      " [  5.44000000e+02  -6.28022662e+03   9.84785095e-03]\n",
      " [  6.01000000e+02  -6.31749663e+03   1.10509500e-02]\n",
      " [  6.65000000e+02  -6.36171714e+03   1.24154358e-02]\n",
      " [  7.34000000e+02  -6.41193783e+03   1.39009759e-02]\n",
      " [  8.12000000e+02  -6.47158731e+03   1.55970850e-02]\n",
      " [  8.97000000e+02  -6.53974096e+03   1.74644172e-02]\n",
      " [  9.92000000e+02  -6.61943659e+03   1.95733975e-02]\n",
      " [  1.09600000e+03  -6.71055158e+03   2.19068620e-02]\n",
      " [  1.21100000e+03  -6.81558049e+03   2.45153407e-02]\n",
      " [  1.33900000e+03  -6.93728804e+03   2.74532937e-02]\n",
      " [  1.48000000e+03  -7.07669813e+03   3.07327762e-02]\n",
      " [  1.63500000e+03  -7.23585679e+03   3.43919451e-02]\n",
      " [  1.80700000e+03  -7.41911580e+03   3.85216797e-02]]\n"
     ]
    }
   ],
   "source": [
    "Gfcc=np.zeros((len(ttnpt)-1,3))\n",
    "for i in xrange(len(ttnpt)-1):\n",
    "    T1=intdhfcc[i,0]\n",
    "    Gfcc[i,0]=T1\n",
    "    Gfcc[i,1]=intdhfcc[i,1]+U0fcc+(T1/T0)*(GfccT0-U0fcc)-nfreefcc*kbev*T1*np.log(T1/T0)\n",
    "    Gfcc[i,2]=intdhfcc[i,2]+(T1/T0)*GfccT0error\n",
    "print Gfcc"
   ]
  },
  {
   "cell_type": "code",
   "execution_count": 16,
   "metadata": {},
   "outputs": [
    {
     "name": "stdout",
     "output_type": "stream",
     "text": [
      "[[  9.90000000e+01  -5.59176742e+03   1.03723821e-03]\n",
      " [  1.09000000e+02  -5.59193809e+03   1.25121460e-03]\n",
      " [  1.21000000e+02  -5.59255675e+03   1.48899636e-03]\n",
      " [  1.34000000e+02  -5.59368746e+03   1.73935012e-03]\n",
      " [  1.48000000e+02  -5.59538879e+03   2.00645514e-03]\n",
      " [  1.63000000e+02  -5.59771546e+03   2.29245740e-03]\n",
      " [  1.81000000e+02  -5.60112943e+03   2.63689521e-03]\n",
      " [  2.00000000e+02  -5.60539838e+03   3.00269513e-03]\n",
      " [  2.21000000e+02  -5.61083437e+03   3.41008267e-03]\n",
      " [  2.44000000e+02  -5.61756992e+03   3.85998089e-03]\n",
      " [  2.70000000e+02  -5.62607355e+03   4.37308842e-03]\n",
      " [  2.98000000e+02  -5.63618567e+03   4.93083339e-03]\n",
      " [  3.30000000e+02  -5.64883672e+03   5.57421985e-03]\n",
      " [  3.64000000e+02  -5.66343473e+03   6.26426285e-03]\n",
      " [  4.03000000e+02  -5.68150434e+03   7.06333167e-03]\n",
      " [  4.45000000e+02  -5.70239512e+03   7.93203457e-03]\n",
      " [  4.92000000e+02  -5.72736287e+03   8.91328042e-03]\n",
      " [  5.44000000e+02  -5.75675577e+03   1.00093409e-02]\n",
      " [  6.01000000e+02  -5.79090521e+03   1.12220894e-02]\n",
      " [  6.65000000e+02  -5.83142384e+03   1.25965240e-02]\n",
      " [  7.34000000e+02  -5.87744114e+03   1.40923728e-02]\n",
      " [  8.12000000e+02  -5.93209900e+03   1.57994516e-02]\n",
      " [  8.97000000e+02  -5.99455037e+03   1.76779024e-02]\n",
      " [  9.92000000e+02  -6.06757909e+03   1.97981515e-02]\n",
      " [  1.09600000e+03  -6.15107339e+03   2.21429919e-02]\n",
      " [  1.21100000e+03  -6.24731980e+03   2.47633510e-02]\n",
      " [  1.33900000e+03  -6.35885202e+03   2.77138514e-02]\n",
      " [  1.48000000e+03  -6.48660937e+03   3.10052408e-02]\n",
      " [  1.63500000e+03  -6.63246795e+03   3.46743135e-02]\n",
      " [  1.80700000e+03  -6.80041738e+03   3.88127404e-02]]\n"
     ]
    },
    {
     "data": {
      "image/png": "[encoded data removed]",
      "text/plain": [
       "<matplotlib.figure.Figure at 0x7f002f707510>"
      ]
     },
     "metadata": {},
     "output_type": "display_data"
    }
   ],
   "source": [
    "Gsf=np.zeros((len(ttnpt)-1,3))\n",
    "for i in xrange(len(ttnpt)-1):\n",
    "    T1=intdhsf[i,0]\n",
    "    Gsf[i,0]=T1\n",
    "    Gsf[i,1]=intdhsf[i,1]+U0sf+(T1/T0)*(GsfT0-U0sf)-nfreesf*kbev*T1*np.log(T1/T0)\n",
    "    Gsf[i,2]=intdhsf[i,2]+(T1/T0)*GsfT0error\n",
    "\n",
    "print Gsf\n",
    "\n",
    "plt.plot(Gfcc[:,0],Gfcc[:,1])\n",
    "plt.plot(Gsf[:,0],Gsf[:,1])\n",
    "plt.show()"
   ]
  },
  {
   "cell_type": "markdown",
   "metadata": {},
   "source": [
    "# This the free energy associated with the center of mass\n",
    "### $\\Delta A_{cm}(N, V, T)=-k_B T\\left(\\ln\\dfrac{V}{N \\Lambda^3}+\\dfrac{3}{2}\\ln N\\right)$\n",
    "### $ \\Lambda=(2\\pi \\hbar^2/(atomicmass\\times dalton \\times k_B  T))^{1/2}=17.458218 /\\sqrt{T*atomicmass}~A$\n",
    "### For FCC Fe At 0K, $V/N=12.459008 A^3$\n",
    "### Now we add this to the free energy in order to retrieve the free energy of the uncontrained system"
   ]
  },
  {
   "cell_type": "code",
   "execution_count": 17,
   "metadata": {},
   "outputs": [
    {
     "name": "stdout",
     "output_type": "stream",
     "text": [
      "[[  9.90000000e+01  -6.10027892e+03   9.74458135e-04]\n",
      " [  1.09000000e+02  -6.10048382e+03   1.18590245e-03]\n",
      " [  1.21000000e+02  -6.10118137e+03   1.42044051e-03]\n",
      " [  1.34000000e+02  -6.10243967e+03   1.66717459e-03]\n",
      " [  1.48000000e+02  -6.10432260e+03   1.93039765e-03]\n",
      " [  1.63000000e+02  -6.10688991e+03   2.21230131e-03]\n",
      " [  1.81000000e+02  -6.11064954e+03   2.55188854e-03]\n",
      " [  2.00000000e+02  -6.11534416e+03   2.91269841e-03]\n",
      " [  2.21000000e+02  -6.12131624e+03   3.31477061e-03]\n",
      " [  2.44000000e+02  -6.12871044e+03   3.75909878e-03]\n",
      " [  2.70000000e+02  -6.13803994e+03   4.26614653e-03]\n",
      " [  2.98000000e+02  -6.14912865e+03   4.81747573e-03]\n",
      " [  3.30000000e+02  -6.16299588e+03   5.45381507e-03]\n",
      " [  3.64000000e+02  -6.17899187e+03   6.13666408e-03]\n",
      " [  4.03000000e+02  -6.19878614e+03   6.92779705e-03]\n",
      " [  4.45000000e+02  -6.22166507e+03   7.78843844e-03]\n",
      " [  4.92000000e+02  -6.24900296e+03   8.76108611e-03]\n",
      " [  5.44000000e+02  -6.28117984e+03   9.84785095e-03]\n",
      " [  6.01000000e+02  -6.31855747e+03   1.10509500e-02]\n",
      " [  6.65000000e+02  -6.36289964e+03   1.24154358e-02]\n",
      " [  7.34000000e+02  -6.41325240e+03   1.39009759e-02]\n",
      " [  8.12000000e+02  -6.47305217e+03   1.55970850e-02]\n",
      " [  8.97000000e+02  -6.54137070e+03   1.74644172e-02]\n",
      " [  9.92000000e+02  -6.62125185e+03   1.95733975e-02]\n",
      " [  1.09600000e+03  -6.71257127e+03   2.19068620e-02]\n",
      " [  1.21100000e+03  -6.81782772e+03   2.45153407e-02]\n",
      " [  1.33900000e+03  -6.93979019e+03   2.74532937e-02]\n",
      " [  1.48000000e+03  -7.07948291e+03   3.07327762e-02]\n",
      " [  1.63500000e+03  -7.23895427e+03   3.43919451e-02]\n",
      " [  1.80700000e+03  -7.42256249e+03   3.85216797e-02]]\n"
     ]
    }
   ],
   "source": [
    "massni=55.845\n",
    "vdivideN=12.459008\n",
    "for i in xrange(len(Gfcc)):\n",
    "    T1 = Gfcc[i,0]\n",
    "    acm = -kbev*T1*(np.log(vdivideN/(17.458218/np.sqrt(T1*massni))**3.)+1.5*np.log(natomfcc))\n",
    "    #print T1, acm\n",
    "    Gfcc[i,1] += acm\n",
    "print Gfcc"
   ]
  },
  {
   "cell_type": "code",
   "execution_count": 18,
   "metadata": {},
   "outputs": [
    {
     "name": "stdout",
     "output_type": "stream",
     "text": [
      "[[  9.90000000e+01  -5.59191797e+03   1.03723821e-03]\n",
      " [  1.09000000e+02  -5.59210521e+03   1.25121460e-03]\n",
      " [  1.21000000e+02  -5.59274390e+03   1.48899636e-03]\n",
      " [  1.34000000e+02  -5.59389648e+03   1.73935012e-03]\n",
      " [  1.48000000e+02  -5.59562156e+03   2.00645514e-03]\n",
      " [  1.63000000e+02  -5.59797385e+03   2.29245740e-03]\n",
      " [  1.81000000e+02  -5.60141880e+03   2.63689521e-03]\n",
      " [  2.00000000e+02  -5.60572071e+03   3.00269513e-03]\n",
      " [  2.21000000e+02  -5.61119340e+03   3.41008267e-03]\n",
      " [  2.44000000e+02  -5.61796943e+03   3.85998089e-03]\n",
      " [  2.70000000e+02  -5.62651917e+03   4.37308842e-03]\n",
      " [  2.98000000e+02  -5.63668130e+03   4.93083339e-03]\n",
      " [  3.30000000e+02  -5.64938993e+03   5.57421985e-03]\n",
      " [  3.64000000e+02  -5.66404955e+03   6.26426285e-03]\n",
      " [  4.03000000e+02  -5.68219033e+03   7.06333167e-03]\n",
      " [  4.45000000e+02  -5.70315830e+03   7.93203457e-03]\n",
      " [  4.92000000e+02  -5.72821304e+03   8.91328042e-03]\n",
      " [  5.44000000e+02  -5.75770287e+03   1.00093409e-02]\n",
      " [  6.01000000e+02  -5.79195929e+03   1.12220894e-02]\n",
      " [  6.65000000e+02  -5.83259886e+03   1.25965240e-02]\n",
      " [  7.34000000e+02  -5.87874745e+03   1.40923728e-02]\n",
      " [  8.12000000e+02  -5.93355472e+03   1.57994516e-02]\n",
      " [  8.97000000e+02  -5.99617003e+03   1.76779024e-02]\n",
      " [  9.92000000e+02  -6.06938319e+03   1.97981515e-02]\n",
      " [  1.09600000e+03  -6.15308075e+03   2.21429919e-02]\n",
      " [  1.21100000e+03  -6.24955341e+03   2.47633510e-02]\n",
      " [  1.33900000e+03  -6.36133911e+03   2.77138514e-02]\n",
      " [  1.48000000e+03  -6.48937750e+03   3.10052408e-02]\n",
      " [  1.63500000e+03  -6.63554705e+03   3.46743135e-02]\n",
      " [  1.80700000e+03  -6.80384375e+03   3.88127404e-02]]\n"
     ]
    }
   ],
   "source": [
    "for i in xrange(len(Gsf)):\n",
    "    T1 = Gsf[i,0]\n",
    "    acm = -kbev*T1*(np.log(vdivideN/(17.458218/np.sqrt(T1*massni))**3.)+1.5*np.log(natomsf))\n",
    "    #print T1, acm\n",
    "    Gsf[i,1] += acm\n",
    "print Gsf"
   ]
  },
  {
   "cell_type": "markdown",
   "metadata": {
    "collapsed": true
   },
   "source": [
    "# Now compute stacking fault free energy\n",
    "### $G_\\text{SF} = G_\\text{sf} - \\dfrac{N_\\text{sf}}{N_\\text{fcc}} G_\\text{fcc}$"
   ]
  },
  {
   "cell_type": "code",
   "execution_count": 19,
   "metadata": {},
   "outputs": [
    {
     "data": {
      "image/png": "[encoded data removed]",
      "text/plain": [
       "<matplotlib.figure.Figure at 0x7f0032b47610>"
      ]
     },
     "metadata": {},
     "output_type": "display_data"
    }
   ],
   "source": [
    "Gv=np.zeros((len(ttnpt)-1,3))\n",
    "for i in xrange(len(ttnpt)-1):\n",
    "    T1=Gsf[i,0]\n",
    "    Gv[i,0]=T1\n",
    "    Gv[i,1]=Gsf[i,1]-Gfcc[i,1]*natomsf/natomfcc\n",
    "    Gv[i,2]=np.sqrt(Gsf[i,2]**2.0+Gfcc[i,2]**2.0)\n",
    "    \n",
    "plt.plot(Gv[:,0],Gv[:,1])\n",
    "plt.show()"
   ]
  },
  {
   "cell_type": "code",
   "execution_count": null,
   "metadata": {
    "collapsed": true
   },
   "outputs": [],
   "source": []
  }
 ],
 "metadata": {
  "kernelspec": {
   "display_name": "Python 2",
   "language": "python",
   "name": "python2"
  },
  "language_info": {
   "codemirror_mode": {
    "name": "ipython",
    "version": 2
   },
   "file_extension": ".py",
   "mimetype": "text/x-python",
   "name": "python",
   "nbconvert_exporter": "python",
   "pygments_lexer": "ipython2",
   "version": "2.7.13"
  }
 },
 "nbformat": 4,
 "nbformat_minor": 2
}
